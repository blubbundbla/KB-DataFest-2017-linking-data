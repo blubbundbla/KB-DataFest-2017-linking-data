{
 "cells": [
  {
   "cell_type": "markdown",
   "metadata": {},
   "source": [
    "# Exploration of Linking Phenoscape and iDigBio\n",
    "\n"
   ]
  },
  {
   "cell_type": "markdown",
   "metadata": {},
   "source": [
    "## Linking based on specimen identifiers in Phenoscape\n",
    "\n",
    "Phenoscape's first project included the identifiers of specimens taken from publications with the phenotypes collected. Some limitations:\n",
    "\n",
    "1. Only the catalog number and institution code are entered\n",
    "1. The specimens identified were mentioned in the paper with the phenotypes, there is not a 1:1 correspondence between the measured character and the specific specimen"
   ]
  },
  {
   "cell_type": "markdown",
   "metadata": {},
   "source": [
    "### Downloading data from Phenoscape\n",
    "\n",
    "The SPARQL interface (http://yasgui.org/ with the endpoint http://db.phenoscape.org/bigsparql) was used to download a CSV with all distinct specimen identifiers. The query was provided by Jim Balhof:\n",
    "\n",
    "```\n",
    "PREFIX obo: <http://purl.obolibrary.org/obo/>\n",
    "PREFIX ps: <http://purl.org/phenoscape/vocab.owl#>\n",
    "PREFIX rdf: <http://www.w3.org/1999/02/22-rdf-syntax-ns#> \n",
    "PREFIX rdfs: <http://www.w3.org/2000/01/rdf-schema#>\n",
    "PREFIX owl: <http://www.w3.org/2002/07/owl#>\n",
    "PREFIX BFO: <http://purl.obolibrary.org/obo/BFO_>\n",
    "PREFIX fin: <http://purl.obolibrary.org/obo/UBERON_0008897>\n",
    "PREFIX dc: <http://purl.org/dc/elements/1.1/>\n",
    "PREFIX hint: <http://www.bigdata.com/queryHints#> \n",
    "PREFIX pedal_digit_1: <http://purl.obolibrary.org/obo/UBERON_0003631>\n",
    "PREFIX pectoral_fin: <http://purl.obolibrary.org/obo/UBERON_0000151>\n",
    "PREFIX prehallux: <http://purl.obolibrary.org/obo/UBERON_0012136>\n",
    "PREFIX Anura: <http://purl.obolibrary.org/obo/VTO_0002210>\n",
    "PREFIX length: <http://purl.obolibrary.org/obo/PATO_0000122>\n",
    "PREFIX dwc: <http://rs.tdwg.org/dwc/terms/>\n",
    "PREFIX has_external_reference: <http://purl.obolibrary.org/obo/CDAO_0000164>\n",
    "SELECT DISTINCT ?matrix_taxon ?vto ?vto_label ?collection ?catNum WHERE {\n",
    "?otu dwc:individualID ?specimen .\n",
    "?otu rdfs:label ?matrix_taxon .\n",
    "?otu has_external_reference: ?vto .\n",
    "?vto rdfs:label ?vto_label .\n",
    "?specimen dwc:collectionID/rdfs:label ?collection .\n",
    "?specimen dwc:catalogNumber ?catNum .\n",
    "}\n",
    "```"
   ]
  },
  {
   "cell_type": "code",
   "execution_count": null,
   "metadata": {
    "collapsed": true
   },
   "outputs": [],
   "source": []
  }
 ],
 "metadata": {
  "kernelspec": {
   "display_name": "3 - PySpark Python3 Medium",
   "language": "python",
   "name": "pyspark3-med"
  },
  "language_info": {
   "codemirror_mode": {
    "name": "ipython",
    "version": 3
   },
   "file_extension": ".py",
   "mimetype": "text/x-python",
   "name": "python",
   "nbconvert_exporter": "python",
   "pygments_lexer": "ipython3",
   "version": "3.5.2"
  }
 },
 "nbformat": 4,
 "nbformat_minor": 2
}
